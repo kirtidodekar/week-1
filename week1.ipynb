{
  "nbformat": 4,
  "nbformat_minor": 0,
  "metadata": {
    "colab": {
      "provenance": []
    },
    "kernelspec": {
      "name": "python3",
      "display_name": "Python 3"
    },
    "language_info": {
      "name": "python"
    }
  },
  "cells": [
    {
      "cell_type": "code",
      "execution_count": 2,
      "metadata": {
        "id": "KDOE_hLshOCw",
        "colab": {
          "base_uri": "https://localhost:8080/"
        },
        "outputId": "ebb2baec-f5a5-4f64-aabc-2ad29ce0d409"
      },
      "outputs": [
        {
          "output_type": "stream",
          "name": "stdout",
          "text": [
            "Mounted at /content/drive\n",
            "   Temparature  Humidity  Moisture Soil Type    Crop Type  Nitrogen  \\\n",
            "0           32        51        41       Red  Ground Nuts         7   \n",
            "1           35        58        35     Black       Cotton         4   \n",
            "2           27        55        43     Sandy    Sugarcane        28   \n",
            "3           33        56        56     Loamy  Ground Nuts        37   \n",
            "4           32        70        60       Red  Ground Nuts         4   \n",
            "\n",
            "   Potassium  Phosphorous Fertilizer Name  \n",
            "0          3           19        14-35-14  \n",
            "1         14           16            Urea  \n",
            "2          0           17           20-20  \n",
            "3          5           24           28-28  \n",
            "4          6            9        14-35-14  \n"
          ]
        }
      ],
      "source": [
        "from google.colab import drive\n",
        "drive.mount('/content/drive')\n",
        "\n",
        "import pandas as pd\n",
        "\n",
        "file_path = '/content/Fertilizer Prediction.csv'\n",
        "df = pd.read_csv(file_path)\n",
        "\n",
        "print(df.head())"
      ]
    }
  ]
}